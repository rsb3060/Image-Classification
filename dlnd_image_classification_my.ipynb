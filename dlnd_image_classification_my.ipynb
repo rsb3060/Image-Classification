{
 "cells": [
  {
   "cell_type": "markdown",
   "metadata": {
    "collapsed": true,
    "deletable": true,
    "editable": true
   },
   "source": [
    "# Image Classification\n",
    "In this project, you'll classify images from the [CIFAR-10 dataset](https://www.cs.toronto.edu/~kriz/cifar.html).  The dataset consists of airplanes, dogs, cats, and other objects. You'll preprocess the images, then train a convolutional neural network on all the samples. The images need to be normalized and the labels need to be one-hot encoded.  You'll get to apply what you learned and build a convolutional, max pooling, dropout, and fully connected layers.  At the end, you'll get to see your neural network's predictions on the sample images.\n",
    "## Get the Data\n",
    "Run the following cell to download the [CIFAR-10 dataset for python](https://www.cs.toronto.edu/~kriz/cifar-10-python.tar.gz)."
   ]
  },
  {
   "cell_type": "code",
   "execution_count": 1,
   "metadata": {
    "collapsed": false,
    "deletable": true,
    "editable": true
   },
   "outputs": [
    {
     "name": "stdout",
     "output_type": "stream",
     "text": [
      "All files found!\n"
     ]
    }
   ],
   "source": [
    "\"\"\"\n",
    "DON'T MODIFY ANYTHING IN THIS CELL THAT IS BELOW THIS LINE\n",
    "\"\"\"\n",
    "from urllib.request import urlretrieve\n",
    "from os.path import isfile, isdir\n",
    "from tqdm import tqdm\n",
    "import problem_unittests as tests\n",
    "import tarfile\n",
    "\n",
    "cifar10_dataset_folder_path = 'cifar-10-batches-py'\n",
    "\n",
    "class DLProgress(tqdm):\n",
    "    last_block = 0\n",
    "\n",
    "    def hook(self, block_num=1, block_size=1, total_size=None):\n",
    "        self.total = total_size\n",
    "        self.update((block_num - self.last_block) * block_size)\n",
    "        self.last_block = block_num\n",
    "\n",
    "if not isfile('cifar-10-python.tar.gz'):\n",
    "    with DLProgress(unit='B', unit_scale=True, miniters=1, desc='CIFAR-10 Dataset') as pbar:\n",
    "        urlretrieve(\n",
    "            'https://www.cs.toronto.edu/~kriz/cifar-10-python.tar.gz',\n",
    "            'cifar-10-python.tar.gz',\n",
    "            pbar.hook)\n",
    "\n",
    "if not isdir(cifar10_dataset_folder_path):\n",
    "    with tarfile.open('cifar-10-python.tar.gz') as tar:\n",
    "        tar.extractall()\n",
    "        tar.close()\n",
    "\n",
    "\n",
    "tests.test_folder_path(cifar10_dataset_folder_path)"
   ]
  },
  {
   "cell_type": "markdown",
   "metadata": {
    "deletable": true,
    "editable": true
   },
   "source": [
    "## Explore the Data\n",
    "The dataset is broken into batches to prevent your machine from running out of memory.  The CIFAR-10 dataset consists of 5 batches, named `data_batch_1`, `data_batch_2`, etc.. Each batch contains the labels and images that are one of the following:\n",
    "* airplane\n",
    "* automobile\n",
    "* bird\n",
    "* cat\n",
    "* deer\n",
    "* dog\n",
    "* frog\n",
    "* horse\n",
    "* ship\n",
    "* truck\n",
    "\n",
    "Understanding a dataset is part of making predictions on the data.  Play around with the code cell below by changing the `batch_id` and `sample_id`. The `batch_id` is the id for a batch (1-5). The `sample_id` is the id for a image and label pair in the batch.\n",
    "\n",
    "Ask yourself \"What are all possible labels?\", \"What is the range of values for the image data?\", \"Are the labels in order or random?\".  Answers to questions like these will help you preprocess the data and end up with better predictions."
   ]
  },
  {
   "cell_type": "code",
   "execution_count": 2,
   "metadata": {
    "collapsed": false,
    "deletable": true,
    "editable": true
   },
   "outputs": [
    {
     "name": "stdout",
     "output_type": "stream",
     "text": [
      "\n",
      "Stats of batch 1:\n",
      "Samples: 10000\n",
      "Label Counts: {0: 1005, 1: 974, 2: 1032, 3: 1016, 4: 999, 5: 937, 6: 1030, 7: 1001, 8: 1025, 9: 981}\n",
      "First 20 Labels: [6, 9, 9, 4, 1, 1, 2, 7, 8, 3, 4, 7, 7, 2, 9, 9, 9, 3, 2, 6]\n",
      "\n",
      "Example of Image 5:\n",
      "Image - Min Value: 0 Max Value: 252\n",
      "Image - Shape: (32, 32, 3)\n",
      "Label - Label Id: 1 Name: automobile\n"
     ]
    },
    {
     "data": {
      "image/png": "[encoded data removed]",
      "text/plain": [
       "<matplotlib.figure.Figure at 0x9abbd68>"
      ]
     },
     "metadata": {
      "image/png": {
       "height": 250,
       "width": 253
      }
     },
     "output_type": "display_data"
    }
   ],
   "source": [
    "%matplotlib inline\n",
    "%config InlineBackend.figure_format = 'retina'\n",
    "\n",
    "import helper\n",
    "import numpy as np\n",
    "\n",
    "# Explore the dataset\n",
    "batch_id = 1\n",
    "sample_id = 5\n",
    "helper.display_stats(cifar10_dataset_folder_path, batch_id, sample_id)"
   ]
  },
  {
   "cell_type": "markdown",
   "metadata": {
    "deletable": true,
    "editable": true
   },
   "source": [
    "## Implement Preprocess Functions\n",
    "### Normalize\n",
    "In the cell below, implement the `normalize` function to take in image data, `x`, and return it as a normalized Numpy array. The values should be in the range of 0 to 1, inclusive.  The return object should be the same shape as `x`."
   ]
  },
  {
   "cell_type": "code",
   "execution_count": 3,
   "metadata": {
    "collapsed": false,
    "deletable": true,
    "editable": true
   },
   "outputs": [
    {
     "name": "stdout",
     "output_type": "stream",
     "text": [
      "Tests Passed\n"
     ]
    }
   ],
   "source": [
    "def normalize(x):\n",
    "    \"\"\"\n",
    "    Normalize a list of sample image data in the range of 0 to 1\n",
    "    : x: List of image data.  The image shape is (32, 32, 3)\n",
    "    : return: Numpy array of normalize data\n",
    "    \"\"\"\n",
    "\n",
    "    x = x/255.0\n",
    "    # TODO: Implement Function\n",
    "    return x\n",
    "\n",
    "\n",
    "\"\"\"\n",
    "DON'T MODIFY ANYTHING IN THIS CELL THAT IS BELOW THIS LINE\n",
    "\"\"\"\n",
    "tests.test_normalize(normalize)"
   ]
  },
  {
   "cell_type": "markdown",
   "metadata": {
    "deletable": true,
    "editable": true
   },
   "source": [
    "### One-hot encode\n",
    "Just like the previous code cell, you'll be implementing a function for preprocessing.  This time, you'll implement the `one_hot_encode` function. The input, `x`, are a list of labels.  Implement the function to return the list of labels as One-Hot encoded Numpy array.  The possible values for labels are 0 to 9. The one-hot encoding function should return the same encoding for each value between each call to `one_hot_encode`.  Make sure to save the map of encodings outside the function.\n",
    "\n",
    "Hint: Don't reinvent the wheel."
   ]
  },
  {
   "cell_type": "code",
   "execution_count": 4,
   "metadata": {
    "collapsed": false,
    "deletable": true,
    "editable": true
   },
   "outputs": [],
   "source": [
    "# x=[0,1,2,3,4]\n",
    "# one_hot_vector=np.zeros((len(x),10))\n",
    "# one_hot_vector"
   ]
  },
  {
   "cell_type": "code",
   "execution_count": 5,
   "metadata": {
    "collapsed": false,
    "deletable": true,
    "editable": true
   },
   "outputs": [
    {
     "name": "stdout",
     "output_type": "stream",
     "text": [
      "Tests Passed\n"
     ]
    }
   ],
   "source": [
    "def one_hot_encode(x):\n",
    "    \"\"\"\n",
    "    One hot encode a list of sample labels. Return a one-hot encoded vector for each label.\n",
    "    : x: List of sample Labels\n",
    "    : return: Numpy array of one-hot encoded labels\n",
    "    \"\"\"\n",
    "    one_hot_vector=np.zeros((len(x),10))\n",
    "    for indx in range(len(x)):\n",
    "        one_hot_vector[indx][x[indx]]=1\n",
    "        \n",
    "    # TODO: Implement Function\n",
    "    return one_hot_vector\n",
    "\n",
    "\n",
    "\"\"\"\n",
    "DON'T MODIFY ANYTHING IN THIS CELL THAT IS BELOW THIS LINE\n",
    "\"\"\"\n",
    "tests.test_one_hot_encode(one_hot_encode)"
   ]
  },
  {
   "cell_type": "markdown",
   "metadata": {
    "deletable": true,
    "editable": true
   },
   "source": [
    "### Randomize Data\n",
    "As you saw from exploring the data above, the order of the samples are randomized.  It doesn't hurt to randomize it again, but you don't need to for this dataset."
   ]
  },
  {
   "cell_type": "markdown",
   "metadata": {
    "deletable": true,
    "editable": true
   },
   "source": [
    "## Preprocess all the data and save it\n",
    "Running the code cell below will preprocess all the CIFAR-10 data and save it to file. The code below also uses 10% of the training data for validation."
   ]
  },
  {
   "cell_type": "code",
   "execution_count": 6,
   "metadata": {
    "collapsed": false,
    "deletable": true,
    "editable": true
   },
   "outputs": [],
   "source": [
    "\"\"\"\n",
    "DON'T MODIFY ANYTHING IN THIS CELL\n",
    "\"\"\"\n",
    "# Preprocess Training, Validation, and Testing Data\n",
    "helper.preprocess_and_save_data(cifar10_dataset_folder_path, normalize, one_hot_encode)"
   ]
  },
  {
   "cell_type": "markdown",
   "metadata": {
    "deletable": true,
    "editable": true
   },
   "source": [
    "# Check Point\n",
    "This is your first checkpoint.  If you ever decide to come back to this notebook or have to restart the notebook, you can start from here.  The preprocessed data has been saved to disk."
   ]
  },
  {
   "cell_type": "code",
   "execution_count": 7,
   "metadata": {
    "collapsed": true,
    "deletable": true,
    "editable": true
   },
   "outputs": [],
   "source": [
    "\"\"\"\n",
    "DON'T MODIFY ANYTHING IN THIS CELL\n",
    "\"\"\"\n",
    "import pickle\n",
    "import problem_unittests as tests\n",
    "import helper\n",
    "\n",
    "# Load the Preprocessed Validation data\n",
    "valid_features, valid_labels = pickle.load(open('preprocess_validation.p', mode='rb'))"
   ]
  },
  {
   "cell_type": "markdown",
   "metadata": {
    "deletable": true,
    "editable": true
   },
   "source": [
    "## Build the network\n",
    "For the neural network, you'll build each layer into a function.  Most of the code you've seen has been outside of functions. To test your code more thoroughly, we require that you put each layer in a function.  This allows us to give you better feedback and test for simple mistakes using our unittests before you submit your project.\n",
    "\n",
    ">**Note:** If you're finding it hard to dedicate enough time for this course each week, we've provided a small shortcut to this part of the project. In the next couple of problems, you'll have the option to use classes from the [TensorFlow Layers](https://www.tensorflow.org/api_docs/python/tf/layers) or [TensorFlow Layers (contrib)](https://www.tensorflow.org/api_guides/python/contrib.layers) packages to build each layer, except the layers you build in the \"Convolutional and Max Pooling Layer\" section.  TF Layers is similar to Keras's and TFLearn's abstraction to layers, so it's easy to pickup.\n",
    "\n",
    ">However, if you would like to get the most out of this course, try to solve all the problems _without_ using anything from the TF Layers packages. You **can** still use classes from other packages that happen to have the same name as ones you find in TF Layers! For example, instead of using the TF Layers version of the `conv2d` class, [tf.layers.conv2d](https://www.tensorflow.org/api_docs/python/tf/layers/conv2d), you would want to use the TF Neural Network version of `conv2d`, [tf.nn.conv2d](https://www.tensorflow.org/api_docs/python/tf/nn/conv2d). \n",
    "\n",
    "Let's begin!\n",
    "\n",
    "### Input\n",
    "The neural network needs to read the image data, one-hot encoded labels, and dropout keep probability. Implement the following functions\n",
    "* Implement `neural_net_image_input`\n",
    " * Return a [TF Placeholder](https://www.tensorflow.org/api_docs/python/tf/placeholder)\n",
    " * Set the shape using `image_shape` with batch size set to `None`.\n",
    " * Name the TensorFlow placeholder \"x\" using the TensorFlow `name` parameter in the [TF Placeholder](https://www.tensorflow.org/api_docs/python/tf/placeholder).\n",
    "* Implement `neural_net_label_input`\n",
    " * Return a [TF Placeholder](https://www.tensorflow.org/api_docs/python/tf/placeholder)\n",
    " * Set the shape using `n_classes` with batch size set to `None`.\n",
    " * Name the TensorFlow placeholder \"y\" using the TensorFlow `name` parameter in the [TF Placeholder](https://www.tensorflow.org/api_docs/python/tf/placeholder).\n",
    "* Implement `neural_net_keep_prob_input`\n",
    " * Return a [TF Placeholder](https://www.tensorflow.org/api_docs/python/tf/placeholder) for dropout keep probability.\n",
    " * Name the TensorFlow placeholder \"keep_prob\" using the TensorFlow `name` parameter in the [TF Placeholder](https://www.tensorflow.org/api_docs/python/tf/placeholder).\n",
    "\n",
    "These names will be used at the end of the project to load your saved model.\n",
    "\n",
    "Note: `None` for shapes in TensorFlow allow for a dynamic size."
   ]
  },
  {
   "cell_type": "code",
   "execution_count": 8,
   "metadata": {
    "collapsed": false,
    "deletable": true,
    "editable": true
   },
   "outputs": [
    {
     "name": "stdout",
     "output_type": "stream",
     "text": [
      "Image Input Tests Passed.\n",
      "Label Input Tests Passed.\n",
      "Keep Prob Tests Passed.\n"
     ]
    }
   ],
   "source": [
    "import tensorflow as tf\n",
    "\n",
    "def neural_net_image_input(image_shape):\n",
    "    \"\"\"\n",
    "    Return a Tensor for a bach of image input\n",
    "    : image_shape: Shape of the images\n",
    "    : return: Tensor for image input.\n",
    "    \"\"\"\n",
    "    \n",
    "\n",
    "    # TODO: Implement Function\n",
    "    return tf.placeholder(tf.float32, shape=(None, image_shape[0],image_shape[1],image_shape[2]),name=\"x\")\n",
    "\n",
    "\n",
    "def neural_net_label_input(n_classes):\n",
    "    \"\"\"\n",
    "    Return a Tensor for a batch of label input\n",
    "    : n_classes: Number of classes\n",
    "    : return: Tensor for label input.\n",
    "    \"\"\"\n",
    "    return tf.placeholder(tf.float32,shape=(None, n_classes),name=\"y\")\n",
    "\n",
    "\n",
    "def neural_net_keep_prob_input():\n",
    "    \"\"\"\n",
    "    Return a Tensor for keep probability\n",
    "    : return: Tensor for keep probability.\n",
    "    \"\"\"\n",
    "    \n",
    "    return tf.placeholder(tf.float32,name=\"keep_prob\")\n",
    "\n",
    "\n",
    "\"\"\"\n",
    "DON'T MODIFY ANYTHING IN THIS CELL THAT IS BELOW THIS LINE\n",
    "\"\"\"\n",
    "tf.reset_default_graph()\n",
    "tests.test_nn_image_inputs(neural_net_image_input)\n",
    "tests.test_nn_label_inputs(neural_net_label_input)\n",
    "tests.test_nn_keep_prob_inputs(neural_net_keep_prob_input)"
   ]
  },
  {
   "cell_type": "markdown",
   "metadata": {
    "deletable": true,
    "editable": true
   },
   "source": [
    "### Convolution and Max Pooling Layer\n",
    "Convolution layers have a lot of success with images. For this code cell, you should implement the function `conv2d_maxpool` to apply convolution then max pooling:\n",
    "* Create the weight and bias using `conv_ksize`, `conv_num_outputs` and the shape of `x_tensor`.\n",
    "* Apply a convolution to `x_tensor` using weight and `conv_strides`.\n",
    " * We recommend you use same padding, but you're welcome to use any padding.\n",
    "* Add bias\n",
    "* Add a nonlinear activation to the convolution.\n",
    "* Apply Max Pooling using `pool_ksize` and `pool_strides`.\n",
    " * We recommend you use same padding, but you're welcome to use any padding.\n",
    "\n",
    "**Note:** You **can't** use [TensorFlow Layers](https://www.tensorflow.org/api_docs/python/tf/layers) or [TensorFlow Layers (contrib)](https://www.tensorflow.org/api_guides/python/contrib.layers) for **this** layer, but you can still use TensorFlow's [Neural Network](https://www.tensorflow.org/api_docs/python/tf/nn) package. You may still use the shortcut option for all the **other** layers."
   ]
  },
  {
   "cell_type": "code",
   "execution_count": 9,
   "metadata": {
    "collapsed": false,
    "deletable": true,
    "editable": true
   },
   "outputs": [
    {
     "name": "stdout",
     "output_type": "stream",
     "text": [
      "Tests Passed\n"
     ]
    }
   ],
   "source": [
    "def conv2d_maxpool(x_tensor, conv_num_outputs, conv_ksize, conv_strides, pool_ksize, pool_strides):\n",
    "    \"\"\"\n",
    "    Apply convolution then max pooling to x_tensor\n",
    "    :param x_tensor: TensorFlow Tensor\n",
    "    :param conv_num_outputs: Number of outputs for the convolutional layer\n",
    "    :param conv_ksize: kernal size 2-D Tuple for the convolutional layer\n",
    "    :param conv_strides: Stride 2-D Tuple for convolution\n",
    "    :param pool_ksize: kernal size 2-D Tuple for pool\n",
    "    :param pool_strides: Stride 2-D Tuple for pool\n",
    "    : return: A tensor that represents convolution and max pooling of x_tensor\n",
    "    \"\"\"\n",
    "    \n",
    "\n",
    "    # Image Properties\n",
    "    image_width = x_tensor.get_shape().as_list()[1]\n",
    "    image_height = x_tensor.get_shape().as_list()[2]\n",
    "    color_channels = x_tensor.get_shape().as_list()[3]\n",
    "#     ####We have to change it to list to get the shape as the default shape give tensor type\n",
    "#     print(type(color_channels), type(x_tensor.shape[3]))\n",
    "    \n",
    "    \n",
    "    weight = tf.Variable(tf.truncated_normal([conv_ksize[0], conv_ksize[1], color_channels, conv_num_outputs],stddev=0.1))\n",
    "    bias = tf.Variable(tf.zeros(conv_num_outputs))\n",
    "    \n",
    "    # Apply Convolution\n",
    "    conv2d_maxpool = tf.nn.conv2d(x_tensor, weight, strides=[1, conv_strides[0], conv_strides[1], 1], padding='SAME')\n",
    "    # Add bias\n",
    "    conv2d_maxpool = tf.nn.bias_add(conv2d_maxpool, bias)\n",
    "    # Apply activation function\n",
    "    conv2d_maxpool= tf.nn.relu(conv2d_maxpool)\n",
    "    \n",
    "    conv2d_maxpool = tf.nn.max_pool(\n",
    "    conv2d_maxpool,\n",
    "    ksize=[1, pool_ksize[0], pool_ksize[1], 1],\n",
    "    strides=[1, pool_strides[0], pool_strides[1], 1],\n",
    "    padding='SAME')\n",
    "\n",
    "    \n",
    "    return conv2d_maxpool\n",
    "\n",
    "\n",
    "\"\"\"\n",
    "DON'T MODIFY ANYTHING IN THIS CELL THAT IS BELOW THIS LINE\n",
    "\"\"\"\n",
    "tests.test_con_pool(conv2d_maxpool)"
   ]
  },
  {
   "cell_type": "markdown",
   "metadata": {
    "deletable": true,
    "editable": true
   },
   "source": [
    "### Flatten Layer\n",
    "Implement the `flatten` function to change the dimension of `x_tensor` from a 4-D tensor to a 2-D tensor.  The output should be the shape (*Batch Size*, *Flattened Image Size*). Shortcut option: you can use classes from the [TensorFlow Layers](https://www.tensorflow.org/api_docs/python/tf/layers) or [TensorFlow Layers (contrib)](https://www.tensorflow.org/api_guides/python/contrib.layers) packages for this layer. For more of a challenge, only use other TensorFlow packages."
   ]
  },
  {
   "cell_type": "code",
   "execution_count": 10,
   "metadata": {
    "collapsed": false,
    "deletable": true,
    "editable": true
   },
   "outputs": [
    {
     "name": "stdout",
     "output_type": "stream",
     "text": [
      "Tests Passed\n"
     ]
    }
   ],
   "source": [
    "def flatten(x_tensor):\n",
    "    \"\"\"\n",
    "    Flatten x_tensor to (Batch Size, Flattened Image Size)\n",
    "    : x_tensor: A tensor of size (Batch Size, ...), where ... are the image dimensions.\n",
    "    : return: A tensor of size (Batch Size, Flattened Image Size).\n",
    "    \"\"\"\n",
    "    \n",
    "    x_axis_len = x_tensor.get_shape().as_list()[1]\n",
    "    y_axis_len = x_tensor.get_shape().as_list()[2]\n",
    "    channel_len = x_tensor.get_shape().as_list()[3]\n",
    "    \n",
    "    shape=x_axis_len* y_axis_len*channel_len\n",
    "    \n",
    "    return tf.reshape(x_tensor, [-1,shape ])\n",
    "\n",
    "\n",
    "\"\"\"\n",
    "DON'T MODIFY ANYTHING IN THIS CELL THAT IS BELOW THIS LINE\n",
    "\"\"\"\n",
    "tests.test_flatten(flatten)"
   ]
  },
  {
   "cell_type": "markdown",
   "metadata": {
    "deletable": true,
    "editable": true
   },
   "source": [
    "### Fully-Connected Layer\n",
    "Implement the `fully_conn` function to apply a fully connected layer to `x_tensor` with the shape (*Batch Size*, *num_outputs*). Shortcut option: you can use classes from the [TensorFlow Layers](https://www.tensorflow.org/api_docs/python/tf/layers) or [TensorFlow Layers (contrib)](https://www.tensorflow.org/api_guides/python/contrib.layers) packages for this layer. For more of a challenge, only use other TensorFlow packages."
   ]
  },
  {
   "cell_type": "code",
   "execution_count": 11,
   "metadata": {
    "collapsed": false,
    "deletable": true,
    "editable": true
   },
   "outputs": [
    {
     "name": "stdout",
     "output_type": "stream",
     "text": [
      "Tests Passed\n"
     ]
    }
   ],
   "source": [
    "def fully_conn(x_tensor, num_outputs):\n",
    "    \"\"\"\n",
    "    Apply a fully connected layer to x_tensor using weight and bias\n",
    "    : x_tensor: A 2-D tensor where the first dimension is batch size.\n",
    "    : num_outputs: The number of output that the new tensor should be.\n",
    "    : return: A 2-D tensor where the second dimension is num_outputs.\n",
    "    \"\"\"\n",
    "    input_len = x_tensor.get_shape().as_list()[1]\n",
    "    # TODO: Implement Function\n",
    "    weight = tf.Variable(tf.truncated_normal([input_len, num_outputs],stddev=0.1))\n",
    "    bias = tf.Variable(tf.zeros(num_outputs))\n",
    "    \n",
    "    \n",
    "    \n",
    "    fc = tf.add(tf.matmul(x_tensor, weight), bias)\n",
    "    fc = tf.nn.relu(fc)\n",
    "    \n",
    "    return fc\n",
    "\n",
    "\n",
    "\"\"\"\n",
    "DON'T MODIFY ANYTHING IN THIS CELL THAT IS BELOW THIS LINE\n",
    "\"\"\"\n",
    "tests.test_fully_conn(fully_conn)"
   ]
  },
  {
   "cell_type": "markdown",
   "metadata": {
    "deletable": true,
    "editable": true
   },
   "source": [
    "### Output Layer\n",
    "Implement the `output` function to apply a fully connected layer to `x_tensor` with the shape (*Batch Size*, *num_outputs*). Shortcut option: you can use classes from the [TensorFlow Layers](https://www.tensorflow.org/api_docs/python/tf/layers) or [TensorFlow Layers (contrib)](https://www.tensorflow.org/api_guides/python/contrib.layers) packages for this layer. For more of a challenge, only use other TensorFlow packages.\n",
    "\n",
    "**Note:** Activation, softmax, or cross entropy should **not** be applied to this."
   ]
  },
  {
   "cell_type": "code",
   "execution_count": 12,
   "metadata": {
    "collapsed": false,
    "deletable": true,
    "editable": true
   },
   "outputs": [
    {
     "name": "stdout",
     "output_type": "stream",
     "text": [
      "Tests Passed\n"
     ]
    }
   ],
   "source": [
    "def output(x_tensor, num_outputs):\n",
    "    \"\"\"\n",
    "    Apply a output layer to x_tensor using weight and bias\n",
    "    : x_tensor: A 2-D tensor where the first dimension is batch size.\n",
    "    : num_outputs: The number of output that the new tensor should be.\n",
    "    : return: A 2-D tensor where the second dimension is num_outputs.\n",
    "    \"\"\"\n",
    "    # TODO: Implement Function\n",
    "    input_len = x_tensor.get_shape().as_list()[1]\n",
    "    # TODO: Implement Function\n",
    "    weight = tf.Variable(tf.truncated_normal([input_len, num_outputs],stddev=0.1))\n",
    "    bias = tf.Variable(tf.zeros(num_outputs))\n",
    "    \n",
    "    \n",
    "    \n",
    "    fc = tf.add(tf.matmul(x_tensor, weight), bias)\n",
    "    \n",
    "    \n",
    "    return fc\n",
    "\n",
    "\n",
    "\"\"\"\n",
    "DON'T MODIFY ANYTHING IN THIS CELL THAT IS BELOW THIS LINE\n",
    "\"\"\"\n",
    "tests.test_output(output)"
   ]
  },
  {
   "cell_type": "markdown",
   "metadata": {
    "deletable": true,
    "editable": true
   },
   "source": [
    "### Create Convolutional Model\n",
    "Implement the function `conv_net` to create a convolutional neural network model. The function takes in a batch of images, `x`, and outputs logits.  Use the layers you created above to create this model:\n",
    "\n",
    "* Apply 1, 2, or 3 Convolution and Max Pool layers\n",
    "* Apply a Flatten Layer\n",
    "* Apply 1, 2, or 3 Fully Connected Layers\n",
    "* Apply an Output Layer\n",
    "* Return the output\n",
    "* Apply [TensorFlow's Dropout](https://www.tensorflow.org/api_docs/python/tf/nn/dropout) to one or more layers in the model using `keep_prob`. "
   ]
  },
  {
   "cell_type": "code",
   "execution_count": 20,
   "metadata": {
    "collapsed": false,
    "deletable": true,
    "editable": true
   },
   "outputs": [
    {
     "name": "stdout",
     "output_type": "stream",
     "text": [
      "(?, 32, 32, 3)\n",
      "(?, 16, 16, 32)\n",
      "(?, 8, 8, 64)\n",
      "(?, 4, 4, 128)\n",
      "(?, 2048)\n",
      "(?, 32, 32, 3)\n",
      "(?, 16, 16, 32)\n",
      "(?, 8, 8, 64)\n",
      "(?, 4, 4, 128)\n",
      "(?, 2048)\n",
      "Neural Network Built!\n"
     ]
    }
   ],
   "source": [
    "def conv_net(x, keep_prob):\n",
    "    \"\"\"\n",
    "    Create a convolutional neural network model\n",
    "    : x: Placeholder tensor that holds image data.\n",
    "    : keep_prob: Placeholder tensor that hold dropout keep probability.\n",
    "    : return: Tensor that represents logits\n",
    "    \"\"\"\n",
    "#     conv_1(32, (5,5), (1,1), (2,2), (2,2))\n",
    "# conv_2(64, (3,3),(1,1), (2,2),(2,2))\n",
    "# conv_3(128, (3,3),(1,1), (2,2),(2,2))\n",
    "# fc_1(512)\n",
    "# fc_2(256)\n",
    "# fc_3(128)\n",
    "    #    Play around with different number of outputs, kernel size and stride\n",
    "    # Function Definition from Above:\n",
    "    #    conv2d_maxpool(x_tensor, conv_num_outputs, conv_ksize, conv_strides, pool_ksize, pool_strides)\n",
    "    print(x.shape)\n",
    "    conv1 = conv2d_maxpool(x,32,(5,5),(1,1), (2,2),(2,2))\n",
    "    print(conv1.shape)\n",
    "    conv1 = tf.nn.dropout(conv1, keep_prob)\n",
    "\n",
    "    conv2 = conv2d_maxpool(conv1,64,(3,3),(1,1), (2,2),(2,2))\n",
    "    print(conv2.shape)\n",
    "    conv2 = tf.nn.dropout(conv2, keep_prob)\n",
    "    \n",
    "    conv3 = conv2d_maxpool(conv2,128,(3,3),(1,1), (2,2),(2,2))\n",
    "    conv3 = tf.nn.dropout(conv3, keep_prob)\n",
    "    print(conv3.shape)\n",
    "    \n",
    "    \n",
    "    # Function Definition from Above:\n",
    "    #   flatten(x_tensor)\n",
    "    conv_final=flatten(conv3)\n",
    "    print(conv_final.shape)\n",
    "    \n",
    "    \n",
    "    # TODO: Apply 1, 2, or 3 Fully Connected Layers\n",
    "    #    Play around with different number of outputs\n",
    "    # Function Definition from Above:\n",
    "    #   fully_conn(x_tensor, num_outputs)\n",
    "    full_connec1=fully_conn(conv_final, 512)\n",
    "    full_connec1 = tf.nn.dropout(full_connec1, keep_prob)\n",
    "    #Adding dropout\n",
    "    \n",
    "    \n",
    "    full_connec2=fully_conn(full_connec1, 256)\n",
    "    full_connec2 = tf.nn.dropout(full_connec2, keep_prob)\n",
    "    \n",
    "    full_connec3=fully_conn(full_connec2, 128)\n",
    "    full_connec3 = tf.nn.dropout(full_connec3, keep_prob)\n",
    "    \n",
    "    #    Set this to the number of classes\n",
    "    # Function Definition from Above:\n",
    "    #   output(x_tensor, num_outputs)\n",
    "    \n",
    "    \n",
    "    \n",
    "    final_output=output(full_connec2, 10)\n",
    "  \n",
    "    # TODO: return output\n",
    "    return final_output\n",
    "\n",
    "\n",
    "\"\"\"\n",
    "DON'T MODIFY ANYTHING IN THIS CELL THAT IS BELOW THIS LINE\n",
    "\"\"\"\n",
    "\n",
    "##############################\n",
    "## Build the Neural Network ##\n",
    "##############################\n",
    "\n",
    "# Remove previous weights, bias, inputs, etc..\n",
    "tf.reset_default_graph()\n",
    "\n",
    "# Inputs\n",
    "x = neural_net_image_input((32, 32, 3))\n",
    "y = neural_net_label_input(10)\n",
    "keep_prob = neural_net_keep_prob_input()\n",
    "\n",
    "# Model\n",
    "logits = conv_net(x, keep_prob)\n",
    "\n",
    "# Name logits Tensor, so that is can be loaded from disk after training\n",
    "logits = tf.identity(logits, name='logits')\n",
    "\n",
    "# Loss and Optimizer\n",
    "cost = tf.reduce_mean(tf.nn.softmax_cross_entropy_with_logits(logits=logits, labels=y))\n",
    "optimizer = tf.train.AdamOptimizer().minimize(cost)\n",
    "\n",
    "# Accuracy\n",
    "correct_pred = tf.equal(tf.argmax(logits, 1), tf.argmax(y, 1))\n",
    "accuracy = tf.reduce_mean(tf.cast(correct_pred, tf.float32), name='accuracy')\n",
    "\n",
    "tests.test_conv_net(conv_net)"
   ]
  },
  {
   "cell_type": "markdown",
   "metadata": {
    "deletable": true,
    "editable": true
   },
   "source": [
    "## Train the Neural Network\n",
    "### Single Optimization\n",
    "Implement the function `train_neural_network` to do a single optimization.  The optimization should use `optimizer` to optimize in `session` with a `feed_dict` of the following:\n",
    "* `x` for image input\n",
    "* `y` for labels\n",
    "* `keep_prob` for keep probability for dropout\n",
    "\n",
    "This function will be called for each batch, so `tf.global_variables_initializer()` has already been called.\n",
    "\n",
    "Note: Nothing needs to be returned. This function is only optimizing the neural network."
   ]
  },
  {
   "cell_type": "code",
   "execution_count": 14,
   "metadata": {
    "collapsed": false,
    "deletable": true,
    "editable": true
   },
   "outputs": [
    {
     "name": "stdout",
     "output_type": "stream",
     "text": [
      "Tests Passed\n"
     ]
    }
   ],
   "source": [
    "def train_neural_network(session, optimizer, keep_probability, feature_batch, label_batch):\n",
    "    \"\"\"\n",
    "    Optimize the session on a batch of images and labels\n",
    "    : session: Current TensorFlow session\n",
    "    : optimizer: TensorFlow optimizer function\n",
    "    : keep_probability: keep probability\n",
    "    : feature_batch: Batch of Numpy image data\n",
    "    : label_batch: Batch of Numpy label data\n",
    "    \"\"\"\n",
    "    \n",
    "    with session.as_default() as sess:\n",
    "        sess.run(optimizer, feed_dict={x: feature_batch, y: label_batch, keep_prob: keep_probability})          \n",
    "    pass\n",
    "\n",
    "\n",
    "\"\"\"\n",
    "DON'T MODIFY ANYTHING IN THIS CELL THAT IS BELOW THIS LINE\n",
    "\"\"\"\n",
    "tests.test_train_nn(train_neural_network)"
   ]
  },
  {
   "cell_type": "markdown",
   "metadata": {
    "deletable": true,
    "editable": true
   },
   "source": [
    "### Show Stats\n",
    "Implement the function `print_stats` to print loss and validation accuracy.  Use the global variables `valid_features` and `valid_labels` to calculate validation accuracy.  Use a keep probability of `1.0` to calculate the loss and validation accuracy."
   ]
  },
  {
   "cell_type": "code",
   "execution_count": 15,
   "metadata": {
    "collapsed": false,
    "deletable": true,
    "editable": true
   },
   "outputs": [],
   "source": [
    "def print_stats(session, feature_batch, label_batch, cost, accuracy):\n",
    "    \"\"\"\n",
    "    Print information about loss and validation accuracy\n",
    "    : session: Current TensorFlow session\n",
    "    : feature_batch: Batch of Numpy image data\n",
    "    : label_batch: Batch of Numpy label data\n",
    "    : cost: TensorFlow cost function\n",
    "    : accuracy: TensorFlow accuracy function\n",
    "    \"\"\"\n",
    "    # TODO: Implement Function\n",
    "    with session.as_default() as sess:\n",
    "        loss =sess.run(cost, feed_dict={x: feature_batch, y: label_batch, keep_prob: 1.})   \n",
    "        valid_acc =sess.run(accuracy ,feed_dict={x: valid_features, y: valid_labels, keep_prob: 1.})\n",
    "#         print(\"loss\",loss,\"valid_acc\",valid_acc)\n",
    "        print('Loss: {:>10.4f} Validation Accuracy: {:.6f}'.format(\n",
    "            loss, valid_acc))\n",
    "        \n",
    "    pass\n",
    "\n"
   ]
  },
  {
   "cell_type": "markdown",
   "metadata": {
    "deletable": true,
    "editable": true
   },
   "source": [
    "### Hyperparameters\n",
    "Tune the following parameters:\n",
    "* Set `epochs` to the number of iterations until the network stops learning or start overfitting\n",
    "* Set `batch_size` to the highest number that your machine has memory for.  Most people set them to common sizes of memory:\n",
    " * 64\n",
    " * 128\n",
    " * 256\n",
    " * ...\n",
    "* Set `keep_probability` to the probability of keeping a node using dropout"
   ]
  },
  {
   "cell_type": "code",
   "execution_count": 23,
   "metadata": {
    "collapsed": true,
    "deletable": true,
    "editable": true
   },
   "outputs": [],
   "source": [
    "# TODO: Tune Parameters\n",
    "epochs = 30\n",
    "batch_size = 256\n",
    "keep_probability = .75"
   ]
  },
  {
   "cell_type": "markdown",
   "metadata": {
    "deletable": true,
    "editable": true
   },
   "source": [
    "### Train on a Single CIFAR-10 Batch\n",
    "Instead of training the neural network on all the CIFAR-10 batches of data, let's use a single batch. This should save time while you iterate on the model to get a better accuracy.  Once the final validation accuracy is 50% or greater, run the model on all the data in the next section."
   ]
  },
  {
   "cell_type": "code",
   "execution_count": 22,
   "metadata": {
    "collapsed": false,
    "deletable": true,
    "editable": true
   },
   "outputs": [
    {
     "name": "stdout",
     "output_type": "stream",
     "text": [
      "Checking the Training on a Single Batch...\n",
      "Epoch  1, CIFAR-10 Batch 1:  Loss:     2.2769 Validation Accuracy: 0.158200\n",
      "Epoch  2, CIFAR-10 Batch 1:  Loss:     2.1450 Validation Accuracy: 0.280800\n",
      "Epoch  3, CIFAR-10 Batch 1:  Loss:     1.9464 Validation Accuracy: 0.363600\n",
      "Epoch  4, CIFAR-10 Batch 1:  Loss:     1.8409 Validation Accuracy: 0.394000\n",
      "Epoch  5, CIFAR-10 Batch 1:  Loss:     1.7557 Validation Accuracy: 0.419000\n",
      "Epoch  6, CIFAR-10 Batch 1:  Loss:     1.6675 Validation Accuracy: 0.436200\n",
      "Epoch  7, CIFAR-10 Batch 1:  Loss:     1.5863 Validation Accuracy: 0.437800\n",
      "Epoch  8, CIFAR-10 Batch 1:  Loss:     1.4764 Validation Accuracy: 0.473000\n",
      "Epoch  9, CIFAR-10 Batch 1:  Loss:     1.4069 Validation Accuracy: 0.481400\n",
      "Epoch 10, CIFAR-10 Batch 1:  Loss:     1.3095 Validation Accuracy: 0.495000\n",
      "Epoch 11, CIFAR-10 Batch 1:  Loss:     1.1937 Validation Accuracy: 0.506400\n",
      "Epoch 12, CIFAR-10 Batch 1:  Loss:     1.1228 Validation Accuracy: 0.506000\n",
      "Epoch 13, CIFAR-10 Batch 1:  Loss:     1.0674 Validation Accuracy: 0.524800\n",
      "Epoch 14, CIFAR-10 Batch 1:  Loss:     1.0185 Validation Accuracy: 0.527400\n",
      "Epoch 15, CIFAR-10 Batch 1:  Loss:     0.9169 Validation Accuracy: 0.532600\n",
      "Epoch 16, CIFAR-10 Batch 1:  Loss:     0.9214 Validation Accuracy: 0.541600\n",
      "Epoch 17, CIFAR-10 Batch 1:  Loss:     0.7944 Validation Accuracy: 0.560400\n",
      "Epoch 18, CIFAR-10 Batch 1:  Loss:     0.7439 Validation Accuracy: 0.567000\n",
      "Epoch 19, CIFAR-10 Batch 1:  Loss:     0.6869 Validation Accuracy: 0.564200\n",
      "Epoch 20, CIFAR-10 Batch 1:  Loss:     0.6424 Validation Accuracy: 0.577000\n"
     ]
    }
   ],
   "source": [
    "\"\"\"\n",
    "DON'T MODIFY ANYTHING IN THIS CELL\n",
    "\"\"\"\n",
    "print('Checking the Training on a Single Batch...')\n",
    "with tf.Session() as sess:\n",
    "    # Initializing the variables\n",
    "    sess.run(tf.global_variables_initializer())\n",
    "    \n",
    "    # Training cycle\n",
    "    for epoch in range(epochs):\n",
    "        batch_i = 1\n",
    "        for batch_features, batch_labels in helper.load_preprocess_training_batch(batch_i, batch_size):\n",
    "            train_neural_network(sess, optimizer, keep_probability, batch_features, batch_labels)\n",
    "        print('Epoch {:>2}, CIFAR-10 Batch {}:  '.format(epoch + 1, batch_i), end='')\n",
    "        print_stats(sess, batch_features, batch_labels, cost, accuracy)"
   ]
  },
  {
   "cell_type": "markdown",
   "metadata": {
    "deletable": true,
    "editable": true
   },
   "source": [
    "### Fully Train the Model\n",
    "Now that you got a good accuracy with a single CIFAR-10 batch, try it with all five batches."
   ]
  },
  {
   "cell_type": "code",
   "execution_count": 24,
   "metadata": {
    "collapsed": false,
    "deletable": true,
    "editable": true
   },
   "outputs": [
    {
     "name": "stdout",
     "output_type": "stream",
     "text": [
      "Training...\n",
      "Epoch  1, CIFAR-10 Batch 1:  Loss:     2.2757 Validation Accuracy: 0.181400\n",
      "Epoch  1, CIFAR-10 Batch 2:  Loss:     2.1230 Validation Accuracy: 0.238200\n",
      "Epoch  1, CIFAR-10 Batch 3:  Loss:     1.8811 Validation Accuracy: 0.269400\n",
      "Epoch  1, CIFAR-10 Batch 4:  Loss:     1.8140 Validation Accuracy: 0.283800\n",
      "Epoch  1, CIFAR-10 Batch 5:  Loss:     1.7904 Validation Accuracy: 0.374200\n",
      "Epoch  2, CIFAR-10 Batch 1:  Loss:     1.8840 Validation Accuracy: 0.398800\n",
      "Epoch  2, CIFAR-10 Batch 2:  Loss:     1.6839 Validation Accuracy: 0.415000\n",
      "Epoch  2, CIFAR-10 Batch 3:  Loss:     1.4640 Validation Accuracy: 0.389800\n",
      "Epoch  2, CIFAR-10 Batch 4:  Loss:     1.6081 Validation Accuracy: 0.411000\n",
      "Epoch  2, CIFAR-10 Batch 5:  Loss:     1.5832 Validation Accuracy: 0.456800\n",
      "Epoch  3, CIFAR-10 Batch 1:  Loss:     1.6731 Validation Accuracy: 0.467200\n",
      "Epoch  3, CIFAR-10 Batch 2:  Loss:     1.4862 Validation Accuracy: 0.491400\n",
      "Epoch  3, CIFAR-10 Batch 3:  Loss:     1.2952 Validation Accuracy: 0.463000\n",
      "Epoch  3, CIFAR-10 Batch 4:  Loss:     1.4528 Validation Accuracy: 0.492000\n",
      "Epoch  3, CIFAR-10 Batch 5:  Loss:     1.4656 Validation Accuracy: 0.492600\n",
      "Epoch  4, CIFAR-10 Batch 1:  Loss:     1.4896 Validation Accuracy: 0.522800\n",
      "Epoch  4, CIFAR-10 Batch 2:  Loss:     1.3588 Validation Accuracy: 0.506600\n",
      "Epoch  4, CIFAR-10 Batch 3:  Loss:     1.1452 Validation Accuracy: 0.511600\n",
      "Epoch  4, CIFAR-10 Batch 4:  Loss:     1.3096 Validation Accuracy: 0.510000\n",
      "Epoch  4, CIFAR-10 Batch 5:  Loss:     1.3964 Validation Accuracy: 0.511800\n",
      "Epoch  5, CIFAR-10 Batch 1:  Loss:     1.3168 Validation Accuracy: 0.540800\n",
      "Epoch  5, CIFAR-10 Batch 2:  Loss:     1.1617 Validation Accuracy: 0.547600\n",
      "Epoch  5, CIFAR-10 Batch 3:  Loss:     1.0827 Validation Accuracy: 0.513600\n",
      "Epoch  5, CIFAR-10 Batch 4:  Loss:     1.2122 Validation Accuracy: 0.526200\n",
      "Epoch  5, CIFAR-10 Batch 5:  Loss:     1.1526 Validation Accuracy: 0.561400\n",
      "Epoch  6, CIFAR-10 Batch 1:  Loss:     1.1473 Validation Accuracy: 0.574000\n",
      "Epoch  6, CIFAR-10 Batch 2:  Loss:     1.0382 Validation Accuracy: 0.574600\n",
      "Epoch  6, CIFAR-10 Batch 3:  Loss:     0.9495 Validation Accuracy: 0.574200\n",
      "Epoch  6, CIFAR-10 Batch 4:  Loss:     1.1500 Validation Accuracy: 0.554600\n",
      "Epoch  6, CIFAR-10 Batch 5:  Loss:     1.0277 Validation Accuracy: 0.586600\n",
      "Epoch  7, CIFAR-10 Batch 1:  Loss:     1.0228 Validation Accuracy: 0.599800\n",
      "Epoch  7, CIFAR-10 Batch 2:  Loss:     0.9514 Validation Accuracy: 0.604800\n",
      "Epoch  7, CIFAR-10 Batch 3:  Loss:     0.8927 Validation Accuracy: 0.581400\n",
      "Epoch  7, CIFAR-10 Batch 4:  Loss:     0.9457 Validation Accuracy: 0.602600\n",
      "Epoch  7, CIFAR-10 Batch 5:  Loss:     0.9269 Validation Accuracy: 0.608800\n",
      "Epoch  8, CIFAR-10 Batch 1:  Loss:     0.9378 Validation Accuracy: 0.619400\n",
      "Epoch  8, CIFAR-10 Batch 2:  Loss:     0.8220 Validation Accuracy: 0.633600\n",
      "Epoch  8, CIFAR-10 Batch 3:  Loss:     0.7250 Validation Accuracy: 0.616800\n",
      "Epoch  8, CIFAR-10 Batch 4:  Loss:     0.8370 Validation Accuracy: 0.616800\n",
      "Epoch  8, CIFAR-10 Batch 5:  Loss:     0.8093 Validation Accuracy: 0.627600\n",
      "Epoch  9, CIFAR-10 Batch 1:  Loss:     0.8370 Validation Accuracy: 0.642200\n",
      "Epoch  9, CIFAR-10 Batch 2:  Loss:     0.7301 Validation Accuracy: 0.640800\n",
      "Epoch  9, CIFAR-10 Batch 3:  Loss:     0.6106 Validation Accuracy: 0.635600\n",
      "Epoch  9, CIFAR-10 Batch 4:  Loss:     0.7471 Validation Accuracy: 0.638400\n",
      "Epoch  9, CIFAR-10 Batch 5:  Loss:     0.6730 Validation Accuracy: 0.658600\n",
      "Epoch 10, CIFAR-10 Batch 1:  Loss:     0.7753 Validation Accuracy: 0.661600\n",
      "Epoch 10, CIFAR-10 Batch 2:  Loss:     0.6818 Validation Accuracy: 0.653400\n",
      "Epoch 10, CIFAR-10 Batch 3:  Loss:     0.5735 Validation Accuracy: 0.646000\n",
      "Epoch 10, CIFAR-10 Batch 4:  Loss:     0.6982 Validation Accuracy: 0.644200\n",
      "Epoch 10, CIFAR-10 Batch 5:  Loss:     0.6312 Validation Accuracy: 0.657400\n",
      "Epoch 11, CIFAR-10 Batch 1:  Loss:     0.6714 Validation Accuracy: 0.675800\n",
      "Epoch 11, CIFAR-10 Batch 2:  Loss:     0.6898 Validation Accuracy: 0.656600\n",
      "Epoch 11, CIFAR-10 Batch 3:  Loss:     0.5054 Validation Accuracy: 0.662000\n",
      "Epoch 11, CIFAR-10 Batch 4:  Loss:     0.5836 Validation Accuracy: 0.669200\n",
      "Epoch 11, CIFAR-10 Batch 5:  Loss:     0.5448 Validation Accuracy: 0.657600\n",
      "Epoch 12, CIFAR-10 Batch 1:  Loss:     0.6448 Validation Accuracy: 0.680000\n",
      "Epoch 12, CIFAR-10 Batch 2:  Loss:     0.5219 Validation Accuracy: 0.687000\n",
      "Epoch 12, CIFAR-10 Batch 3:  Loss:     0.4088 Validation Accuracy: 0.673400\n",
      "Epoch 12, CIFAR-10 Batch 4:  Loss:     0.4729 Validation Accuracy: 0.675600\n",
      "Epoch 12, CIFAR-10 Batch 5:  Loss:     0.4219 Validation Accuracy: 0.698000\n",
      "Epoch 13, CIFAR-10 Batch 1:  Loss:     0.5819 Validation Accuracy: 0.687600\n",
      "Epoch 13, CIFAR-10 Batch 2:  Loss:     0.4928 Validation Accuracy: 0.690000\n",
      "Epoch 13, CIFAR-10 Batch 3:  Loss:     0.3694 Validation Accuracy: 0.679000\n",
      "Epoch 13, CIFAR-10 Batch 4:  Loss:     0.4278 Validation Accuracy: 0.697200\n",
      "Epoch 13, CIFAR-10 Batch 5:  Loss:     0.3995 Validation Accuracy: 0.707000\n",
      "Epoch 14, CIFAR-10 Batch 1:  Loss:     0.5038 Validation Accuracy: 0.712400\n",
      "Epoch 14, CIFAR-10 Batch 2:  Loss:     0.4603 Validation Accuracy: 0.694600\n",
      "Epoch 14, CIFAR-10 Batch 3:  Loss:     0.2728 Validation Accuracy: 0.702200\n",
      "Epoch 14, CIFAR-10 Batch 4:  Loss:     0.3785 Validation Accuracy: 0.700200\n",
      "Epoch 14, CIFAR-10 Batch 5:  Loss:     0.3348 Validation Accuracy: 0.709000\n",
      "Epoch 15, CIFAR-10 Batch 1:  Loss:     0.4358 Validation Accuracy: 0.726600\n",
      "Epoch 15, CIFAR-10 Batch 2:  Loss:     0.3867 Validation Accuracy: 0.708400\n",
      "Epoch 15, CIFAR-10 Batch 3:  Loss:     0.2483 Validation Accuracy: 0.714000\n",
      "Epoch 15, CIFAR-10 Batch 4:  Loss:     0.3364 Validation Accuracy: 0.707200\n",
      "Epoch 15, CIFAR-10 Batch 5:  Loss:     0.3090 Validation Accuracy: 0.719000\n",
      "Epoch 16, CIFAR-10 Batch 1:  Loss:     0.4326 Validation Accuracy: 0.715400\n",
      "Epoch 16, CIFAR-10 Batch 2:  Loss:     0.3431 Validation Accuracy: 0.723200\n",
      "Epoch 16, CIFAR-10 Batch 3:  Loss:     0.2259 Validation Accuracy: 0.706800\n",
      "Epoch 16, CIFAR-10 Batch 4:  Loss:     0.2964 Validation Accuracy: 0.714000\n",
      "Epoch 16, CIFAR-10 Batch 5:  Loss:     0.2479 Validation Accuracy: 0.716600\n",
      "Epoch 17, CIFAR-10 Batch 1:  Loss:     0.3122 Validation Accuracy: 0.723800\n",
      "Epoch 17, CIFAR-10 Batch 2:  Loss:     0.4377 Validation Accuracy: 0.702400\n",
      "Epoch 17, CIFAR-10 Batch 3:  Loss:     0.2079 Validation Accuracy: 0.716600\n",
      "Epoch 17, CIFAR-10 Batch 4:  Loss:     0.2426 Validation Accuracy: 0.722800\n",
      "Epoch 17, CIFAR-10 Batch 5:  Loss:     0.1755 Validation Accuracy: 0.733400\n",
      "Epoch 18, CIFAR-10 Batch 1:  Loss:     0.3392 Validation Accuracy: 0.725400\n",
      "Epoch 18, CIFAR-10 Batch 2:  Loss:     0.2938 Validation Accuracy: 0.724200\n",
      "Epoch 18, CIFAR-10 Batch 3:  Loss:     0.1842 Validation Accuracy: 0.726200\n",
      "Epoch 18, CIFAR-10 Batch 4:  Loss:     0.2169 Validation Accuracy: 0.725000\n",
      "Epoch 18, CIFAR-10 Batch 5:  Loss:     0.1903 Validation Accuracy: 0.736400\n",
      "Epoch 19, CIFAR-10 Batch 1:  Loss:     0.2823 Validation Accuracy: 0.743600\n",
      "Epoch 19, CIFAR-10 Batch 2:  Loss:     0.2699 Validation Accuracy: 0.728000\n",
      "Epoch 19, CIFAR-10 Batch 3:  Loss:     0.1550 Validation Accuracy: 0.735000\n",
      "Epoch 19, CIFAR-10 Batch 4:  Loss:     0.1762 Validation Accuracy: 0.737600\n",
      "Epoch 19, CIFAR-10 Batch 5:  Loss:     0.1565 Validation Accuracy: 0.748200\n",
      "Epoch 20, CIFAR-10 Batch 1:  Loss:     0.2648 Validation Accuracy: 0.725800\n",
      "Epoch 20, CIFAR-10 Batch 2:  Loss:     0.2284 Validation Accuracy: 0.730400\n",
      "Epoch 20, CIFAR-10 Batch 3:  Loss:     0.1440 Validation Accuracy: 0.742600\n",
      "Epoch 20, CIFAR-10 Batch 4:  Loss:     0.1549 Validation Accuracy: 0.737200\n",
      "Epoch 20, CIFAR-10 Batch 5:  Loss:     0.1583 Validation Accuracy: 0.739200\n",
      "Epoch 21, CIFAR-10 Batch 1:  Loss:     0.2275 Validation Accuracy: 0.742400\n",
      "Epoch 21, CIFAR-10 Batch 2:  Loss:     0.2260 Validation Accuracy: 0.745000\n",
      "Epoch 21, CIFAR-10 Batch 3:  Loss:     0.1255 Validation Accuracy: 0.731400\n",
      "Epoch 21, CIFAR-10 Batch 4:  Loss:     0.1315 Validation Accuracy: 0.741600\n",
      "Epoch 21, CIFAR-10 Batch 5:  Loss:     0.1197 Validation Accuracy: 0.755000\n",
      "Epoch 22, CIFAR-10 Batch 1:  Loss:     0.1795 Validation Accuracy: 0.747000\n",
      "Epoch 22, CIFAR-10 Batch 2:  Loss:     0.1924 Validation Accuracy: 0.752000\n",
      "Epoch 22, CIFAR-10 Batch 3:  Loss:     0.1065 Validation Accuracy: 0.752200\n",
      "Epoch 22, CIFAR-10 Batch 4:  Loss:     0.0930 Validation Accuracy: 0.746800\n",
      "Epoch 22, CIFAR-10 Batch 5:  Loss:     0.1220 Validation Accuracy: 0.734200\n",
      "Epoch 23, CIFAR-10 Batch 1:  Loss:     0.1855 Validation Accuracy: 0.735400\n",
      "Epoch 23, CIFAR-10 Batch 2:  Loss:     0.2019 Validation Accuracy: 0.752200\n",
      "Epoch 23, CIFAR-10 Batch 3:  Loss:     0.0912 Validation Accuracy: 0.747000\n",
      "Epoch 23, CIFAR-10 Batch 4:  Loss:     0.1010 Validation Accuracy: 0.763400\n",
      "Epoch 23, CIFAR-10 Batch 5:  Loss:     0.1033 Validation Accuracy: 0.764000\n",
      "Epoch 24, CIFAR-10 Batch 1:  Loss:     0.1311 Validation Accuracy: 0.751800\n",
      "Epoch 24, CIFAR-10 Batch 2:  Loss:     0.1438 Validation Accuracy: 0.753600\n",
      "Epoch 24, CIFAR-10 Batch 3:  Loss:     0.0738 Validation Accuracy: 0.745200\n",
      "Epoch 24, CIFAR-10 Batch 4:  Loss:     0.0649 Validation Accuracy: 0.752800\n",
      "Epoch 24, CIFAR-10 Batch 5:  Loss:     0.0940 Validation Accuracy: 0.751000\n",
      "Epoch 25, CIFAR-10 Batch 1:  Loss:     0.1081 Validation Accuracy: 0.751200\n",
      "Epoch 25, CIFAR-10 Batch 2:  Loss:     0.1561 Validation Accuracy: 0.760400\n",
      "Epoch 25, CIFAR-10 Batch 3:  Loss:     0.0605 Validation Accuracy: 0.765200\n",
      "Epoch 25, CIFAR-10 Batch 4:  Loss:     0.0621 Validation Accuracy: 0.756800\n",
      "Epoch 25, CIFAR-10 Batch 5:  Loss:     0.0854 Validation Accuracy: 0.747200\n",
      "Epoch 26, CIFAR-10 Batch 1:  Loss:     0.1033 Validation Accuracy: 0.752800\n",
      "Epoch 26, CIFAR-10 Batch 2:  Loss:     0.1095 Validation Accuracy: 0.766400\n",
      "Epoch 26, CIFAR-10 Batch 3:  Loss:     0.0461 Validation Accuracy: 0.769000\n",
      "Epoch 26, CIFAR-10 Batch 4:  Loss:     0.0577 Validation Accuracy: 0.772800\n",
      "Epoch 26, CIFAR-10 Batch 5:  Loss:     0.0808 Validation Accuracy: 0.736600\n",
      "Epoch 27, CIFAR-10 Batch 1:  Loss:     0.0890 Validation Accuracy: 0.757000\n",
      "Epoch 27, CIFAR-10 Batch 2:  Loss:     0.1033 Validation Accuracy: 0.770800\n",
      "Epoch 27, CIFAR-10 Batch 3:  Loss:     0.0520 Validation Accuracy: 0.771400\n",
      "Epoch 27, CIFAR-10 Batch 4:  Loss:     0.0522 Validation Accuracy: 0.767200\n",
      "Epoch 27, CIFAR-10 Batch 5:  Loss:     0.0564 Validation Accuracy: 0.768400\n",
      "Epoch 28, CIFAR-10 Batch 1:  Loss:     0.0589 Validation Accuracy: 0.760000\n",
      "Epoch 28, CIFAR-10 Batch 2:  Loss:     0.0922 Validation Accuracy: 0.760200\n",
      "Epoch 28, CIFAR-10 Batch 3:  Loss:     0.0562 Validation Accuracy: 0.761400\n",
      "Epoch 28, CIFAR-10 Batch 4:  Loss:     0.0412 Validation Accuracy: 0.774200\n",
      "Epoch 28, CIFAR-10 Batch 5:  Loss:     0.0451 Validation Accuracy: 0.764400\n",
      "Epoch 29, CIFAR-10 Batch 1:  Loss:     0.0567 Validation Accuracy: 0.767200\n",
      "Epoch 29, CIFAR-10 Batch 2:  Loss:     0.0763 Validation Accuracy: 0.771000\n",
      "Epoch 29, CIFAR-10 Batch 3:  Loss:     0.0359 Validation Accuracy: 0.766000\n",
      "Epoch 29, CIFAR-10 Batch 4:  Loss:     0.0395 Validation Accuracy: 0.774600\n",
      "Epoch 29, CIFAR-10 Batch 5:  Loss:     0.0638 Validation Accuracy: 0.739200\n",
      "Epoch 30, CIFAR-10 Batch 1:  Loss:     0.0636 Validation Accuracy: 0.769400\n",
      "Epoch 30, CIFAR-10 Batch 2:  Loss:     0.0636 Validation Accuracy: 0.773800\n",
      "Epoch 30, CIFAR-10 Batch 3:  Loss:     0.0367 Validation Accuracy: 0.770000\n",
      "Epoch 30, CIFAR-10 Batch 4:  Loss:     0.0333 Validation Accuracy: 0.778600\n",
      "Epoch 30, CIFAR-10 Batch 5:  Loss:     0.0353 Validation Accuracy: 0.767600\n",
      "Epoch 31, CIFAR-10 Batch 1:  Loss:     0.0587 Validation Accuracy: 0.758800\n",
      "Epoch 31, CIFAR-10 Batch 2:  Loss:     0.0742 Validation Accuracy: 0.777400\n",
      "Epoch 31, CIFAR-10 Batch 3:  Loss:     0.0412 Validation Accuracy: 0.764200\n",
      "Epoch 31, CIFAR-10 Batch 4:  Loss:     0.0255 Validation Accuracy: 0.777200\n",
      "Epoch 31, CIFAR-10 Batch 5:  Loss:     0.0521 Validation Accuracy: 0.768400\n",
      "Epoch 32, CIFAR-10 Batch 1:  Loss:     0.0444 Validation Accuracy: 0.764000\n",
      "Epoch 32, CIFAR-10 Batch 2:  Loss:     0.0586 Validation Accuracy: 0.774400\n",
      "Epoch 32, CIFAR-10 Batch 3:  Loss:     0.0331 Validation Accuracy: 0.766800\n",
      "Epoch 32, CIFAR-10 Batch 4:  Loss:     0.0427 Validation Accuracy: 0.764000\n",
      "Epoch 32, CIFAR-10 Batch 5:  Loss:     0.0443 Validation Accuracy: 0.745600\n",
      "Epoch 33, CIFAR-10 Batch 1:  Loss:     0.0496 Validation Accuracy: 0.773200\n",
      "Epoch 33, CIFAR-10 Batch 2:  Loss:     0.0547 Validation Accuracy: 0.783600\n",
      "Epoch 33, CIFAR-10 Batch 3:  Loss:     0.0315 Validation Accuracy: 0.762600\n",
      "Epoch 33, CIFAR-10 Batch 4:  Loss:     0.0292 Validation Accuracy: 0.775800\n",
      "Epoch 33, CIFAR-10 Batch 5:  Loss:     0.0473 Validation Accuracy: 0.762800\n",
      "Epoch 34, CIFAR-10 Batch 1:  Loss:     0.0450 Validation Accuracy: 0.777200\n",
      "Epoch 34, CIFAR-10 Batch 2:  Loss:     0.0444 Validation Accuracy: 0.780200\n",
      "Epoch 34, CIFAR-10 Batch 3:  Loss:     0.0247 Validation Accuracy: 0.773800\n",
      "Epoch 34, CIFAR-10 Batch 4:  Loss:     0.0234 Validation Accuracy: 0.773200\n",
      "Epoch 34, CIFAR-10 Batch 5:  Loss:     0.0327 Validation Accuracy: 0.772000\n",
      "Epoch 35, CIFAR-10 Batch 1:  Loss:     0.0338 Validation Accuracy: 0.784600\n",
      "Epoch 35, CIFAR-10 Batch 2:  Loss:     0.0226 Validation Accuracy: 0.782000\n",
      "Epoch 35, CIFAR-10 Batch 3:  Loss:     0.0226 Validation Accuracy: 0.767000\n",
      "Epoch 35, CIFAR-10 Batch 4:  Loss:     0.0212 Validation Accuracy: 0.780000\n",
      "Epoch 35, CIFAR-10 Batch 5:  Loss:     0.0350 Validation Accuracy: 0.765600\n",
      "Epoch 36, CIFAR-10 Batch 1:  Loss:     0.0270 Validation Accuracy: 0.776000\n",
      "Epoch 36, CIFAR-10 Batch 2:  Loss:     0.0289 Validation Accuracy: 0.770400\n",
      "Epoch 36, CIFAR-10 Batch 3:  Loss:     0.0153 Validation Accuracy: 0.775800\n",
      "Epoch 36, CIFAR-10 Batch 4:  Loss:     0.0149 Validation Accuracy: 0.777400\n",
      "Epoch 36, CIFAR-10 Batch 5:  Loss:     0.0266 Validation Accuracy: 0.764600\n",
      "Epoch 37, CIFAR-10 Batch 1:  Loss:     0.0347 Validation Accuracy: 0.768800\n",
      "Epoch 37, CIFAR-10 Batch 2:  Loss:     0.0257 Validation Accuracy: 0.773200\n",
      "Epoch 37, CIFAR-10 Batch 3:  Loss:     0.0191 Validation Accuracy: 0.765800\n",
      "Epoch 37, CIFAR-10 Batch 4:  Loss:     0.0159 Validation Accuracy: 0.778800\n",
      "Epoch 37, CIFAR-10 Batch 5:  Loss:     0.0241 Validation Accuracy: 0.771600\n",
      "Epoch 38, CIFAR-10 Batch 1:  Loss:     0.0225 Validation Accuracy: 0.781800\n",
      "Epoch 38, CIFAR-10 Batch 2:  Loss:     0.0268 Validation Accuracy: 0.775400\n",
      "Epoch 38, CIFAR-10 Batch 3:  Loss:     0.0203 Validation Accuracy: 0.771600\n",
      "Epoch 38, CIFAR-10 Batch 4:  Loss:     0.0208 Validation Accuracy: 0.773000\n",
      "Epoch 38, CIFAR-10 Batch 5:  Loss:     0.0160 Validation Accuracy: 0.765400\n",
      "Epoch 39, CIFAR-10 Batch 1:  Loss:     0.0228 Validation Accuracy: 0.781400\n",
      "Epoch 39, CIFAR-10 Batch 2:  Loss:     0.0298 Validation Accuracy: 0.771800\n",
      "Epoch 39, CIFAR-10 Batch 3:  Loss:     0.0134 Validation Accuracy: 0.778400\n",
      "Epoch 39, CIFAR-10 Batch 4:  Loss:     0.0148 Validation Accuracy: 0.783400\n",
      "Epoch 39, CIFAR-10 Batch 5:  Loss:     0.0183 Validation Accuracy: 0.769600\n",
      "Epoch 40, CIFAR-10 Batch 1:  Loss:     0.0240 Validation Accuracy: 0.782200\n",
      "Epoch 40, CIFAR-10 Batch 2:  Loss:     0.0223 Validation Accuracy: 0.781200\n",
      "Epoch 40, CIFAR-10 Batch 3:  Loss:     0.0096 Validation Accuracy: 0.772600\n",
      "Epoch 40, CIFAR-10 Batch 4:  Loss:     0.0177 Validation Accuracy: 0.788600\n",
      "Epoch 40, CIFAR-10 Batch 5:  Loss:     0.0163 Validation Accuracy: 0.774400\n",
      "Epoch 41, CIFAR-10 Batch 1:  Loss:     0.0197 Validation Accuracy: 0.773000\n",
      "Epoch 41, CIFAR-10 Batch 2:  Loss:     0.0197 Validation Accuracy: 0.782600\n",
      "Epoch 41, CIFAR-10 Batch 3:  Loss:     0.0116 Validation Accuracy: 0.779800\n",
      "Epoch 41, CIFAR-10 Batch 4:  Loss:     0.0122 Validation Accuracy: 0.796400\n",
      "Epoch 41, CIFAR-10 Batch 5:  Loss:     0.0140 Validation Accuracy: 0.781600\n",
      "Epoch 42, CIFAR-10 Batch 1:  Loss:     0.0193 Validation Accuracy: 0.788000\n",
      "Epoch 42, CIFAR-10 Batch 2:  Loss:     0.0230 Validation Accuracy: 0.775000\n",
      "Epoch 42, CIFAR-10 Batch 3:  Loss:     0.0117 Validation Accuracy: 0.784200\n",
      "Epoch 42, CIFAR-10 Batch 4:  Loss:     0.0152 Validation Accuracy: 0.777400\n",
      "Epoch 42, CIFAR-10 Batch 5:  Loss:     0.0162 Validation Accuracy: 0.785000\n",
      "Epoch 43, CIFAR-10 Batch 1:  Loss:     0.0193 Validation Accuracy: 0.783200\n",
      "Epoch 43, CIFAR-10 Batch 2:  Loss:     0.0192 Validation Accuracy: 0.777800\n",
      "Epoch 43, CIFAR-10 Batch 3:  Loss:     0.0113 Validation Accuracy: 0.789200\n",
      "Epoch 43, CIFAR-10 Batch 4:  Loss:     0.0152 Validation Accuracy: 0.777000\n",
      "Epoch 43, CIFAR-10 Batch 5:  Loss:     0.0154 Validation Accuracy: 0.775000\n",
      "Epoch 44, CIFAR-10 Batch 1:  Loss:     0.0193 Validation Accuracy: 0.785200\n",
      "Epoch 44, CIFAR-10 Batch 2:  Loss:     0.0224 Validation Accuracy: 0.770200\n",
      "Epoch 44, CIFAR-10 Batch 3:  Loss:     0.0102 Validation Accuracy: 0.782400\n",
      "Epoch 44, CIFAR-10 Batch 4:  Loss:     0.0081 Validation Accuracy: 0.793800\n",
      "Epoch 44, CIFAR-10 Batch 5:  Loss:     0.0096 Validation Accuracy: 0.782600\n",
      "Epoch 45, CIFAR-10 Batch 1:  Loss:     0.0130 Validation Accuracy: 0.771200\n",
      "Epoch 45, CIFAR-10 Batch 2:  Loss:     0.0365 Validation Accuracy: 0.769600\n",
      "Epoch 45, CIFAR-10 Batch 3:  Loss:     0.0090 Validation Accuracy: 0.768800\n",
      "Epoch 45, CIFAR-10 Batch 4:  Loss:     0.0077 Validation Accuracy: 0.785800\n",
      "Epoch 45, CIFAR-10 Batch 5:  Loss:     0.0105 Validation Accuracy: 0.773800\n",
      "Epoch 46, CIFAR-10 Batch 1:  Loss:     0.0135 Validation Accuracy: 0.782600\n",
      "Epoch 46, CIFAR-10 Batch 2:  Loss:     0.0143 Validation Accuracy: 0.774200\n",
      "Epoch 46, CIFAR-10 Batch 3:  Loss:     0.0087 Validation Accuracy: 0.783800\n",
      "Epoch 46, CIFAR-10 Batch 4:  Loss:     0.0150 Validation Accuracy: 0.785600\n",
      "Epoch 46, CIFAR-10 Batch 5:  Loss:     0.0112 Validation Accuracy: 0.771800\n",
      "Epoch 47, CIFAR-10 Batch 1:  Loss:     0.0123 Validation Accuracy: 0.791200\n",
      "Epoch 47, CIFAR-10 Batch 2:  Loss:     0.0172 Validation Accuracy: 0.781000\n",
      "Epoch 47, CIFAR-10 Batch 3:  Loss:     0.0052 Validation Accuracy: 0.782400\n",
      "Epoch 47, CIFAR-10 Batch 4:  Loss:     0.0130 Validation Accuracy: 0.790200\n",
      "Epoch 47, CIFAR-10 Batch 5:  Loss:     0.0108 Validation Accuracy: 0.773800\n",
      "Epoch 48, CIFAR-10 Batch 1:  Loss:     0.0058 Validation Accuracy: 0.785200\n",
      "Epoch 48, CIFAR-10 Batch 2:  Loss:     0.0083 Validation Accuracy: 0.783800\n",
      "Epoch 48, CIFAR-10 Batch 3:  Loss:     0.0050 Validation Accuracy: 0.789800\n",
      "Epoch 48, CIFAR-10 Batch 4:  Loss:     0.0173 Validation Accuracy: 0.776200\n",
      "Epoch 48, CIFAR-10 Batch 5:  Loss:     0.0110 Validation Accuracy: 0.773600\n",
      "Epoch 49, CIFAR-10 Batch 1:  Loss:     0.0130 Validation Accuracy: 0.780200\n",
      "Epoch 49, CIFAR-10 Batch 2:  Loss:     0.0086 Validation Accuracy: 0.781800\n",
      "Epoch 49, CIFAR-10 Batch 3:  Loss:     0.0070 Validation Accuracy: 0.779600\n",
      "Epoch 49, CIFAR-10 Batch 4:  Loss:     0.0122 Validation Accuracy: 0.786400\n",
      "Epoch 49, CIFAR-10 Batch 5:  Loss:     0.0088 Validation Accuracy: 0.769400\n",
      "Epoch 50, CIFAR-10 Batch 1:  Loss:     0.0068 Validation Accuracy: 0.774600\n",
      "Epoch 50, CIFAR-10 Batch 2:  Loss:     0.0060 Validation Accuracy: 0.782800\n",
      "Epoch 50, CIFAR-10 Batch 3:  Loss:     0.0090 Validation Accuracy: 0.766800\n",
      "Epoch 50, CIFAR-10 Batch 4:  Loss:     0.0053 Validation Accuracy: 0.790000\n",
      "Epoch 50, CIFAR-10 Batch 5:  Loss:     0.0050 Validation Accuracy: 0.779800\n"
     ]
    }
   ],
   "source": [
    "\"\"\"\n",
    "DON'T MODIFY ANYTHING IN THIS CELL\n",
    "\"\"\"\n",
    "save_model_path = './image_classification'\n",
    "\n",
    "print('Training...')\n",
    "with tf.Session() as sess:\n",
    "    # Initializing the variables\n",
    "    sess.run(tf.global_variables_initializer())\n",
    "    \n",
    "    # Training cycle\n",
    "    for epoch in range(epochs):\n",
    "        # Loop over all batches\n",
    "        n_batches = 5\n",
    "        for batch_i in range(1, n_batches + 1):\n",
    "            for batch_features, batch_labels in helper.load_preprocess_training_batch(batch_i, batch_size):\n",
    "                train_neural_network(sess, optimizer, keep_probability, batch_features, batch_labels)\n",
    "            print('Epoch {:>2}, CIFAR-10 Batch {}:  '.format(epoch + 1, batch_i), end='')\n",
    "            print_stats(sess, batch_features, batch_labels, cost, accuracy)\n",
    "            \n",
    "    # Save Model\n",
    "    saver = tf.train.Saver()\n",
    "    save_path = saver.save(sess, save_model_path)"
   ]
  },
  {
   "cell_type": "markdown",
   "metadata": {
    "deletable": true,
    "editable": true
   },
   "source": [
    "# Checkpoint\n",
    "The model has been saved to disk.\n",
    "## Test Model\n",
    "Test your model against the test dataset.  This will be your final accuracy. You should have an accuracy greater than 50%. If you don't, keep tweaking the model architecture and parameters."
   ]
  },
  {
   "cell_type": "code",
   "execution_count": 8,
   "metadata": {
    "collapsed": false,
    "deletable": true,
    "editable": true
   },
   "outputs": [
    {
     "ename": "KeyError",
     "evalue": "'VariableV2'",
     "output_type": "error",
     "traceback": [
      "\u001b[0;31m---------------------------------------------------------------------------\u001b[0m",
      "\u001b[0;31mKeyError\u001b[0m                                  Traceback (most recent call last)",
      "\u001b[0;32m<ipython-input-8-46737803360c>\u001b[0m in \u001b[0;36m<module>\u001b[0;34m()\u001b[0m\n\u001b[1;32m     61\u001b[0m \u001b[1;33m\u001b[0m\u001b[0m\n\u001b[1;32m     62\u001b[0m \u001b[1;33m\u001b[0m\u001b[0m\n\u001b[0;32m---> 63\u001b[0;31m \u001b[0mtest_model\u001b[0m\u001b[1;33m(\u001b[0m\u001b[1;33m)\u001b[0m\u001b[1;33m\u001b[0m\u001b[0m\n\u001b[0m",
      "\u001b[0;32m<ipython-input-8-46737803360c>\u001b[0m in \u001b[0;36mtest_model\u001b[0;34m()\u001b[0m\n\u001b[1;32m     31\u001b[0m     \u001b[1;32mwith\u001b[0m \u001b[0mtf\u001b[0m\u001b[1;33m.\u001b[0m\u001b[0mSession\u001b[0m\u001b[1;33m(\u001b[0m\u001b[0mgraph\u001b[0m\u001b[1;33m=\u001b[0m\u001b[0mloaded_graph\u001b[0m\u001b[1;33m)\u001b[0m \u001b[1;32mas\u001b[0m \u001b[0msess\u001b[0m\u001b[1;33m:\u001b[0m\u001b[1;33m\u001b[0m\u001b[0m\n\u001b[1;32m     32\u001b[0m         \u001b[1;31m# Load model\u001b[0m\u001b[1;33m\u001b[0m\u001b[1;33m\u001b[0m\u001b[0m\n\u001b[0;32m---> 33\u001b[0;31m         \u001b[0mloader\u001b[0m \u001b[1;33m=\u001b[0m \u001b[0mtf\u001b[0m\u001b[1;33m.\u001b[0m\u001b[0mtrain\u001b[0m\u001b[1;33m.\u001b[0m\u001b[0mimport_meta_graph\u001b[0m\u001b[1;33m(\u001b[0m\u001b[0msave_model_path\u001b[0m \u001b[1;33m+\u001b[0m \u001b[1;34m'.meta'\u001b[0m\u001b[1;33m)\u001b[0m\u001b[1;33m\u001b[0m\u001b[0m\n\u001b[0m\u001b[1;32m     34\u001b[0m         \u001b[0mloader\u001b[0m\u001b[1;33m.\u001b[0m\u001b[0mrestore\u001b[0m\u001b[1;33m(\u001b[0m\u001b[0msess\u001b[0m\u001b[1;33m,\u001b[0m \u001b[0msave_model_path\u001b[0m\u001b[1;33m)\u001b[0m\u001b[1;33m\u001b[0m\u001b[0m\n\u001b[1;32m     35\u001b[0m \u001b[1;33m\u001b[0m\u001b[0m\n",
      "\u001b[0;32mC:\\ProgramData\\Anaconda3\\envs\\py35\\lib\\site-packages\\tensorflow\\python\\training\\saver.py\u001b[0m in \u001b[0;36mimport_meta_graph\u001b[0;34m(meta_graph_or_file, clear_devices, import_scope, **kwargs)\u001b[0m\n\u001b[1;32m   1524\u001b[0m                                       \u001b[0mclear_devices\u001b[0m\u001b[1;33m=\u001b[0m\u001b[0mclear_devices\u001b[0m\u001b[1;33m,\u001b[0m\u001b[1;33m\u001b[0m\u001b[0m\n\u001b[1;32m   1525\u001b[0m                                       \u001b[0mimport_scope\u001b[0m\u001b[1;33m=\u001b[0m\u001b[0mimport_scope\u001b[0m\u001b[1;33m,\u001b[0m\u001b[1;33m\u001b[0m\u001b[0m\n\u001b[0;32m-> 1526\u001b[0;31m                                       **kwargs)\n\u001b[0m\u001b[1;32m   1527\u001b[0m   \u001b[1;32mif\u001b[0m \u001b[0mmeta_graph_def\u001b[0m\u001b[1;33m.\u001b[0m\u001b[0mHasField\u001b[0m\u001b[1;33m(\u001b[0m\u001b[1;34m\"saver_def\"\u001b[0m\u001b[1;33m)\u001b[0m\u001b[1;33m:\u001b[0m\u001b[1;33m\u001b[0m\u001b[0m\n\u001b[1;32m   1528\u001b[0m     \u001b[1;32mreturn\u001b[0m \u001b[0mSaver\u001b[0m\u001b[1;33m(\u001b[0m\u001b[0msaver_def\u001b[0m\u001b[1;33m=\u001b[0m\u001b[0mmeta_graph_def\u001b[0m\u001b[1;33m.\u001b[0m\u001b[0msaver_def\u001b[0m\u001b[1;33m,\u001b[0m \u001b[0mname\u001b[0m\u001b[1;33m=\u001b[0m\u001b[0mimport_scope\u001b[0m\u001b[1;33m)\u001b[0m\u001b[1;33m\u001b[0m\u001b[0m\n",
      "\u001b[0;32mC:\\ProgramData\\Anaconda3\\envs\\py35\\lib\\site-packages\\tensorflow\\python\\framework\\meta_graph.py\u001b[0m in \u001b[0;36mimport_scoped_meta_graph\u001b[0;34m(meta_graph_or_file, clear_devices, graph, import_scope, input_map, unbound_inputs_col_name)\u001b[0m\n\u001b[1;32m    500\u001b[0m     importer.import_graph_def(\n\u001b[1;32m    501\u001b[0m         \u001b[0minput_graph_def\u001b[0m\u001b[1;33m,\u001b[0m \u001b[0mname\u001b[0m\u001b[1;33m=\u001b[0m\u001b[1;33m(\u001b[0m\u001b[0mimport_scope\u001b[0m \u001b[1;32mor\u001b[0m \u001b[1;34m\"\"\u001b[0m\u001b[1;33m)\u001b[0m\u001b[1;33m,\u001b[0m \u001b[0minput_map\u001b[0m\u001b[1;33m=\u001b[0m\u001b[0minput_map\u001b[0m\u001b[1;33m,\u001b[0m\u001b[1;33m\u001b[0m\u001b[0m\n\u001b[0;32m--> 502\u001b[0;31m         producer_op_list=producer_op_list)\n\u001b[0m\u001b[1;32m    503\u001b[0m \u001b[1;33m\u001b[0m\u001b[0m\n\u001b[1;32m    504\u001b[0m     \u001b[1;31m# Restores all the other collections.\u001b[0m\u001b[1;33m\u001b[0m\u001b[1;33m\u001b[0m\u001b[0m\n",
      "\u001b[0;32mC:\\ProgramData\\Anaconda3\\envs\\py35\\lib\\site-packages\\tensorflow\\python\\framework\\importer.py\u001b[0m in \u001b[0;36mimport_graph_def\u001b[0;34m(graph_def, input_map, return_elements, name, op_dict, producer_op_list)\u001b[0m\n\u001b[1;32m    256\u001b[0m     \u001b[1;32mfor\u001b[0m \u001b[0mnode\u001b[0m \u001b[1;32min\u001b[0m \u001b[0mgraph_def\u001b[0m\u001b[1;33m.\u001b[0m\u001b[0mnode\u001b[0m\u001b[1;33m:\u001b[0m\u001b[1;33m\u001b[0m\u001b[0m\n\u001b[1;32m    257\u001b[0m       \u001b[1;31m# Set any default attr values that aren't present.\u001b[0m\u001b[1;33m\u001b[0m\u001b[1;33m\u001b[0m\u001b[0m\n\u001b[0;32m--> 258\u001b[0;31m       \u001b[0mop_def\u001b[0m \u001b[1;33m=\u001b[0m \u001b[0mop_dict\u001b[0m\u001b[1;33m[\u001b[0m\u001b[0mnode\u001b[0m\u001b[1;33m.\u001b[0m\u001b[0mop\u001b[0m\u001b[1;33m]\u001b[0m\u001b[1;33m\u001b[0m\u001b[0m\n\u001b[0m\u001b[1;32m    259\u001b[0m       \u001b[1;32mfor\u001b[0m \u001b[0mattr_def\u001b[0m \u001b[1;32min\u001b[0m \u001b[0mop_def\u001b[0m\u001b[1;33m.\u001b[0m\u001b[0mattr\u001b[0m\u001b[1;33m:\u001b[0m\u001b[1;33m\u001b[0m\u001b[0m\n\u001b[1;32m    260\u001b[0m         \u001b[0mkey\u001b[0m \u001b[1;33m=\u001b[0m \u001b[0mattr_def\u001b[0m\u001b[1;33m.\u001b[0m\u001b[0mname\u001b[0m\u001b[1;33m\u001b[0m\u001b[0m\n",
      "\u001b[0;31mKeyError\u001b[0m: 'VariableV2'"
     ]
    }
   ],
   "source": [
    "\"\"\"\n",
    "DON'T MODIFY ANYTHING IN THIS CELL\n",
    "\"\"\"\n",
    "%matplotlib inline\n",
    "%config InlineBackend.figure_format = 'retina'\n",
    "\n",
    "import tensorflow as tf\n",
    "import pickle\n",
    "import helper\n",
    "import random\n",
    "\n",
    "# Set batch size if not already set\n",
    "try:\n",
    "    if batch_size:\n",
    "        pass\n",
    "except NameError:\n",
    "    batch_size = 64\n",
    "\n",
    "save_model_path = './image_classification'\n",
    "n_samples = 4\n",
    "top_n_predictions = 3\n",
    "\n",
    "def test_model():\n",
    "    \"\"\"\n",
    "    Test the saved model against the test dataset\n",
    "    \"\"\"\n",
    "\n",
    "    test_features, test_labels = pickle.load(open('preprocess_training.p', mode='rb'))\n",
    "    loaded_graph = tf.Graph()\n",
    "\n",
    "    with tf.Session(graph=loaded_graph) as sess:\n",
    "        # Load model\n",
    "        loader = tf.train.import_meta_graph(save_model_path + '.meta')\n",
    "        loader.restore(sess, save_model_path)\n",
    "\n",
    "        # Get Tensors from loaded model\n",
    "        loaded_x = loaded_graph.get_tensor_by_name('x:0')\n",
    "        loaded_y = loaded_graph.get_tensor_by_name('y:0')\n",
    "        loaded_keep_prob = loaded_graph.get_tensor_by_name('keep_prob:0')\n",
    "        loaded_logits = loaded_graph.get_tensor_by_name('logits:0')\n",
    "        loaded_acc = loaded_graph.get_tensor_by_name('accuracy:0')\n",
    "        \n",
    "        # Get accuracy in batches for memory limitations\n",
    "        test_batch_acc_total = 0\n",
    "        test_batch_count = 0\n",
    "        \n",
    "        for train_feature_batch, train_label_batch in helper.batch_features_labels(test_features, test_labels, batch_size):\n",
    "            test_batch_acc_total += sess.run(\n",
    "                loaded_acc,\n",
    "                feed_dict={loaded_x: train_feature_batch, loaded_y: train_label_batch, loaded_keep_prob: 1.0})\n",
    "            test_batch_count += 1\n",
    "\n",
    "        print('Testing Accuracy: {}\\n'.format(test_batch_acc_total/test_batch_count))\n",
    "\n",
    "        # Print Random Samples\n",
    "        random_test_features, random_test_labels = tuple(zip(*random.sample(list(zip(test_features, test_labels)), n_samples)))\n",
    "        random_test_predictions = sess.run(\n",
    "            tf.nn.top_k(tf.nn.softmax(loaded_logits), top_n_predictions),\n",
    "            feed_dict={loaded_x: random_test_features, loaded_y: random_test_labels, loaded_keep_prob: 1.0})\n",
    "        helper.display_image_predictions(random_test_features, random_test_labels, random_test_predictions)\n",
    "\n",
    "\n",
    "test_model()"
   ]
  },
  {
   "cell_type": "markdown",
   "metadata": {
    "deletable": true,
    "editable": true
   },
   "source": [
    "## Why 50-70% Accuracy?\n",
    "You might be wondering why you can't get an accuracy any higher. First things first, 50% isn't bad for a simple CNN.  Pure guessing would get you 10% accuracy. However, you might notice people are getting scores [well above 70%](http://rodrigob.github.io/are_we_there_yet/build/classification_datasets_results.html#43494641522d3130).  That's because we haven't taught you all there is to know about neural networks. We still need to cover a few more techniques.\n",
    "## Submitting This Project\n",
    "When submitting this project, make sure to run all the cells before saving the notebook.  Save the notebook file as \"dlnd_image_classification.ipynb\" and save it as a HTML file under \"File\" -> \"Download as\".  Include the \"helper.py\" and \"problem_unittests.py\" files in your submission."
   ]
  }
 ],
 "metadata": {
  "kernelspec": {
   "display_name": "Python 3",
   "language": "python",
   "name": "python3"
  },
  "language_info": {
   "codemirror_mode": {
    "name": "ipython",
    "version": 3
   },
   "file_extension": ".py",
   "mimetype": "text/x-python",
   "name": "python",
   "nbconvert_exporter": "python",
   "pygments_lexer": "ipython3",
   "version": "3.5.2"
  }
 },
 "nbformat": 4,
 "nbformat_minor": 0
}
